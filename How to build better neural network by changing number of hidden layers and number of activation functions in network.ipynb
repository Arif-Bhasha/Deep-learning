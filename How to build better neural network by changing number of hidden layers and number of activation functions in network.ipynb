{
 "cells": [
  {
   "cell_type": "markdown",
   "id": "9f6fecd6",
   "metadata": {},
   "source": [
    "### Importing required libraries"
   ]
  },
  {
   "cell_type": "code",
   "execution_count": 1,
   "id": "4b73ac6f",
   "metadata": {},
   "outputs": [],
   "source": [
    "import pandas as pd\n",
    "import numpy as np\n",
    "import matplotlib.pyplot as plt\n",
    "import seaborn as sns"
   ]
  },
  {
   "cell_type": "markdown",
   "id": "78bd3516",
   "metadata": {},
   "source": [
    "### Loading data set"
   ]
  },
  {
   "cell_type": "code",
   "execution_count": 2,
   "id": "38bdd54c",
   "metadata": {},
   "outputs": [],
   "source": [
    "data=pd.read_csv(r\"D:\\innotmatics\\data.csv\\data\\demo_data\\1.ushape.csv\",header=None)"
   ]
  },
  {
   "cell_type": "markdown",
   "id": "977763c2",
   "metadata": {},
   "source": [
    "### Visualizing Data"
   ]
  },
  {
   "cell_type": "code",
   "execution_count": 3,
   "id": "70c4f90e",
   "metadata": {},
   "outputs": [
    {
     "name": "stderr",
     "output_type": "stream",
     "text": [
      "C:\\Users\\PC\\anaconda3\\lib\\site-packages\\seaborn\\_decorators.py:36: FutureWarning: Pass the following variables as keyword args: x, y. From version 0.12, the only valid positional argument will be `data`, and passing other arguments without an explicit keyword will result in an error or misinterpretation.\n",
      "  warnings.warn(\n"
     ]
    },
    {
     "data": {
      "text/plain": [
       "<AxesSubplot:xlabel='0', ylabel='1'>"
      ]
     },
     "execution_count": 3,
     "metadata": {},
     "output_type": "execute_result"
    },
    {
     "data": {
      "image/png": "[encoded data removed]",
      "text/plain": [
       "<Figure size 432x288 with 1 Axes>"
      ]
     },
     "metadata": {
      "needs_background": "light"
     },
     "output_type": "display_data"
    }
   ],
   "source": [
    "sns.scatterplot(data[0],data[1],hue=data[2])"
   ]
  },
  {
   "cell_type": "markdown",
   "id": "ba66a242",
   "metadata": {},
   "source": [
    "#### By observing plot we can say that there are two class labels \n",
    "#### Distribution of class labels are u-shaped and inverted u-shaped"
   ]
  },
  {
   "cell_type": "code",
   "execution_count": 4,
   "id": "c2d94bfa",
   "metadata": {},
   "outputs": [
    {
     "data": {
      "text/plain": [
       "0.0    50\n",
       "1.0    50\n",
       "Name: 2, dtype: int64"
      ]
     },
     "execution_count": 4,
     "metadata": {},
     "output_type": "execute_result"
    }
   ],
   "source": [
    "data[2].value_counts()"
   ]
  },
  {
   "cell_type": "markdown",
   "id": "6439de94",
   "metadata": {},
   "source": [
    "#### Dataset is balanced and binary class dataset"
   ]
  },
  {
   "cell_type": "markdown",
   "id": "2766d964",
   "metadata": {},
   "source": [
    "#### Splitting Data into train and test"
   ]
  },
  {
   "cell_type": "code",
   "execution_count": 5,
   "id": "74f8425f",
   "metadata": {},
   "outputs": [],
   "source": [
    "from sklearn.model_selection import train_test_split"
   ]
  },
  {
   "cell_type": "code",
   "execution_count": 6,
   "id": "a3602a0d",
   "metadata": {},
   "outputs": [],
   "source": [
    "x_train,x_test,y_train,y_test=train_test_split(data[[0,1]],data[2],test_size=0.1,random_state=100)"
   ]
  },
  {
   "cell_type": "code",
   "execution_count": 7,
   "id": "36c36975",
   "metadata": {},
   "outputs": [],
   "source": [
    "from sklearn.preprocessing import StandardScaler"
   ]
  },
  {
   "cell_type": "code",
   "execution_count": 8,
   "id": "4fdc624a",
   "metadata": {},
   "outputs": [],
   "source": [
    "std=StandardScaler()"
   ]
  },
  {
   "cell_type": "markdown",
   "id": "6ab8eea5",
   "metadata": {},
   "source": [
    "#### Standardizing the data using Standardscaler"
   ]
  },
  {
   "cell_type": "code",
   "execution_count": 9,
   "id": "21109238",
   "metadata": {},
   "outputs": [],
   "source": [
    "stdd=pd.DataFrame(std.fit_transform(x_train))"
   ]
  },
  {
   "cell_type": "markdown",
   "id": "ee7d0358",
   "metadata": {},
   "source": [
    "#### Importing the Tensorflow,keras,sequential and layers"
   ]
  },
  {
   "cell_type": "code",
   "execution_count": 10,
   "id": "ff357d18",
   "metadata": {},
   "outputs": [],
   "source": [
    "import tensorflow\n",
    "import tensorflow.keras\n",
    "from tensorflow.keras import Sequential\n",
    "from tensorflow.keras.layers import Dense,Dropout,BatchNormalization"
   ]
  },
  {
   "cell_type": "markdown",
   "id": "1bbc0378",
   "metadata": {},
   "source": [
    "#### Defining a model and building a model"
   ]
  },
  {
   "cell_type": "code",
   "execution_count": 11,
   "id": "af8b638f",
   "metadata": {},
   "outputs": [],
   "source": [
    "model=Sequential()\n",
    "model.add(Dense(7,activation=\"relu\",input_dim=2,kernel_initializer='he_uniform'))\n",
    "model.add(Dropout(0.5))\n",
    "model.add(BatchNormalization())\n",
    "model.add(Dense(3,activation=\"relu\"))\n",
    "model.add(Dropout(0.5))\n",
    "model.add(BatchNormalization())\n",
    "model.add(Dense(1,activation=\"sigmoid\"))"
   ]
  },
  {
   "cell_type": "markdown",
   "id": "31fb8b4a",
   "metadata": {},
   "source": [
    "#### model summary will explain no of trained parameters in model"
   ]
  },
  {
   "cell_type": "code",
   "execution_count": 12,
   "id": "4ba9e429",
   "metadata": {},
   "outputs": [
    {
     "name": "stdout",
     "output_type": "stream",
     "text": [
      "Model: \"sequential\"\n",
      "_________________________________________________________________\n",
      " Layer (type)                Output Shape              Param #   \n",
      "=================================================================\n",
      " dense (Dense)               (None, 7)                 21        \n",
      "                                                                 \n",
      " dropout (Dropout)           (None, 7)                 0         \n",
      "                                                                 \n",
      " batch_normalization (BatchN  (None, 7)                28        \n",
      " ormalization)                                                   \n",
      "                                                                 \n",
      " dense_1 (Dense)             (None, 3)                 24        \n",
      "                                                                 \n",
      " dropout_1 (Dropout)         (None, 3)                 0         \n",
      "                                                                 \n",
      " batch_normalization_1 (Batc  (None, 3)                12        \n",
      " hNormalization)                                                 \n",
      "                                                                 \n",
      " dense_2 (Dense)             (None, 1)                 4         \n",
      "                                                                 \n",
      "=================================================================\n",
      "Total params: 89\n",
      "Trainable params: 69\n",
      "Non-trainable params: 20\n",
      "_________________________________________________________________\n"
     ]
    }
   ],
   "source": [
    "model.summary()"
   ]
  },
  {
   "cell_type": "markdown",
   "id": "acfb9679",
   "metadata": {},
   "source": [
    "#### There are total of 89 parameters\n",
    "#### 69 out of 89 parameters are trained parameters"
   ]
  },
  {
   "cell_type": "markdown",
   "id": "e7cc3c32",
   "metadata": {},
   "source": [
    "#### Compiling a model using Adam as optimizer and binary_crossentropy as loss function"
   ]
  },
  {
   "cell_type": "code",
   "execution_count": 13,
   "id": "c8e5b1a2",
   "metadata": {},
   "outputs": [],
   "source": [
    "model.compile(optimizer=\"Adam\",loss=\"binary_crossentropy\",metrics=[\"accuracy\"])"
   ]
  },
  {
   "cell_type": "markdown",
   "id": "09916a30",
   "metadata": {},
   "source": [
    "#### Trainnig the build model"
   ]
  },
  {
   "cell_type": "code",
   "execution_count": 14,
   "id": "9ebe285e",
   "metadata": {},
   "outputs": [
    {
     "name": "stdout",
     "output_type": "stream",
     "text": [
      "Epoch 1/20\n",
      "8/8 [==============================] - 4s 74ms/step - loss: 0.7956 - accuracy: 0.5833 - val_loss: 0.6487 - val_accuracy: 0.5000\n",
      "Epoch 2/20\n",
      "8/8 [==============================] - 0s 15ms/step - loss: 0.8833 - accuracy: 0.4722 - val_loss: 0.6462 - val_accuracy: 0.5000\n",
      "Epoch 3/20\n",
      "8/8 [==============================] - 0s 15ms/step - loss: 0.8210 - accuracy: 0.5833 - val_loss: 0.6429 - val_accuracy: 0.5000\n",
      "Epoch 4/20\n",
      "8/8 [==============================] - 0s 13ms/step - loss: 0.8356 - accuracy: 0.5556 - val_loss: 0.6311 - val_accuracy: 0.5000\n",
      "Epoch 5/20\n",
      "8/8 [==============================] - 0s 12ms/step - loss: 0.6725 - accuracy: 0.6111 - val_loss: 0.6239 - val_accuracy: 0.6111\n",
      "Epoch 6/20\n",
      "8/8 [==============================] - 0s 10ms/step - loss: 0.8023 - accuracy: 0.5278 - val_loss: 0.6210 - val_accuracy: 0.5556\n",
      "Epoch 7/20\n",
      "8/8 [==============================] - 0s 9ms/step - loss: 0.7500 - accuracy: 0.5972 - val_loss: 0.6228 - val_accuracy: 0.5000\n",
      "Epoch 8/20\n",
      "8/8 [==============================] - 0s 10ms/step - loss: 0.7865 - accuracy: 0.5833 - val_loss: 0.6185 - val_accuracy: 0.5000\n",
      "Epoch 9/20\n",
      "8/8 [==============================] - 0s 11ms/step - loss: 0.7291 - accuracy: 0.5556 - val_loss: 0.6172 - val_accuracy: 0.5000\n",
      "Epoch 10/20\n",
      "8/8 [==============================] - 0s 9ms/step - loss: 0.7342 - accuracy: 0.5278 - val_loss: 0.6184 - val_accuracy: 0.5000\n",
      "Epoch 11/20\n",
      "8/8 [==============================] - 0s 11ms/step - loss: 0.7009 - accuracy: 0.6528 - val_loss: 0.6189 - val_accuracy: 0.5000\n",
      "Epoch 12/20\n",
      "8/8 [==============================] - 0s 11ms/step - loss: 0.6765 - accuracy: 0.6944 - val_loss: 0.6195 - val_accuracy: 0.5000\n",
      "Epoch 13/20\n",
      "8/8 [==============================] - 0s 11ms/step - loss: 0.7230 - accuracy: 0.5556 - val_loss: 0.6116 - val_accuracy: 0.5000\n",
      "Epoch 14/20\n",
      "8/8 [==============================] - 0s 9ms/step - loss: 0.8641 - accuracy: 0.4583 - val_loss: 0.6100 - val_accuracy: 0.5000\n",
      "Epoch 15/20\n",
      "8/8 [==============================] - 0s 9ms/step - loss: 0.8567 - accuracy: 0.5139 - val_loss: 0.6044 - val_accuracy: 0.5000\n",
      "Epoch 16/20\n",
      "8/8 [==============================] - 0s 11ms/step - loss: 0.7990 - accuracy: 0.5000 - val_loss: 0.6013 - val_accuracy: 0.5556\n",
      "Epoch 17/20\n",
      "8/8 [==============================] - 0s 9ms/step - loss: 0.6919 - accuracy: 0.5833 - val_loss: 0.6013 - val_accuracy: 0.5556\n",
      "Epoch 18/20\n",
      "8/8 [==============================] - 0s 9ms/step - loss: 0.8329 - accuracy: 0.5417 - val_loss: 0.6015 - val_accuracy: 0.5556\n",
      "Epoch 19/20\n",
      "8/8 [==============================] - 0s 9ms/step - loss: 0.7230 - accuracy: 0.6111 - val_loss: 0.5989 - val_accuracy: 0.6111\n",
      "Epoch 20/20\n",
      "8/8 [==============================] - 0s 9ms/step - loss: 0.7333 - accuracy: 0.5694 - val_loss: 0.5949 - val_accuracy: 0.6111\n"
     ]
    }
   ],
   "source": [
    "save=model.fit(stdd,y_train,batch_size=10,epochs=20,verbose=1,validation_split=0.2)"
   ]
  },
  {
   "cell_type": "code",
   "execution_count": 15,
   "id": "553d036e",
   "metadata": {},
   "outputs": [],
   "source": [
    "t1=save.history[\"loss\"]\n",
    "cv1=save.history[\"val_accuracy\"]"
   ]
  },
  {
   "cell_type": "markdown",
   "id": "ad5583c2",
   "metadata": {},
   "source": [
    "#### Plotting the train error and cross-validation error"
   ]
  },
  {
   "cell_type": "code",
   "execution_count": 16,
   "id": "ccf29e19",
   "metadata": {},
   "outputs": [
    {
     "data": {
      "text/plain": [
       "[<matplotlib.lines.Line2D at 0x2b134360d90>]"
      ]
     },
     "execution_count": 16,
     "metadata": {},
     "output_type": "execute_result"
    },
    {
     "data": {
      "image/png": "[encoded data removed]",
      "text/plain": [
       "<Figure size 432x288 with 1 Axes>"
      ]
     },
     "metadata": {
      "needs_background": "light"
     },
     "output_type": "display_data"
    }
   ],
   "source": [
    "plt.plot(range(1,21),t1,label=\"training_loss\")\n",
    "plt.plot(range(1,21),cv1,label=\"cv_loss\")"
   ]
  },
  {
   "cell_type": "markdown",
   "id": "73ae0256",
   "metadata": {},
   "source": [
    "#### From the above plot we can observe that model is overfitting as train error and cross-validation error is high"
   ]
  },
  {
   "cell_type": "markdown",
   "id": "a4164644",
   "metadata": {},
   "source": [
    "#### predicting probabiloty of y values for stdd values"
   ]
  },
  {
   "cell_type": "code",
   "execution_count": 17,
   "id": "094a0be6",
   "metadata": {},
   "outputs": [
    {
     "name": "stdout",
     "output_type": "stream",
     "text": [
      "3/3 [==============================] - 0s 9ms/step\n"
     ]
    }
   ],
   "source": [
    "predi=model.predict(stdd)"
   ]
  },
  {
   "cell_type": "markdown",
   "id": "4770f0fe",
   "metadata": {},
   "source": [
    "#### converting probability values obtained from model.predict to class labels"
   ]
  },
  {
   "cell_type": "code",
   "execution_count": 170,
   "id": "bc7de2d8",
   "metadata": {},
   "outputs": [],
   "source": [
    "predict=np.where(predi>0.5,1,0).flatten()"
   ]
  },
  {
   "cell_type": "code",
   "execution_count": 19,
   "id": "b92c01e7",
   "metadata": {},
   "outputs": [],
   "source": [
    "from sklearn.metrics import accuracy_score"
   ]
  },
  {
   "cell_type": "markdown",
   "id": "21021928",
   "metadata": {},
   "source": [
    "#### calculating the accuracy"
   ]
  },
  {
   "cell_type": "code",
   "execution_count": 20,
   "id": "5b9a6583",
   "metadata": {},
   "outputs": [
    {
     "data": {
      "text/plain": [
       "0.7333333333333333"
      ]
     },
     "execution_count": 20,
     "metadata": {},
     "output_type": "execute_result"
    }
   ],
   "source": [
    "accuracy_score(y_train,predict)"
   ]
  },
  {
   "cell_type": "code",
   "execution_count": 21,
   "id": "8cd53c33",
   "metadata": {},
   "outputs": [
    {
     "name": "stderr",
     "output_type": "stream",
     "text": [
      "C:\\Users\\PC\\anaconda3\\lib\\site-packages\\seaborn\\_decorators.py:36: FutureWarning: Pass the following variables as keyword args: x, y. From version 0.12, the only valid positional argument will be `data`, and passing other arguments without an explicit keyword will result in an error or misinterpretation.\n",
      "  warnings.warn(\n"
     ]
    },
    {
     "data": {
      "text/plain": [
       "<AxesSubplot:xlabel='0', ylabel='1'>"
      ]
     },
     "execution_count": 21,
     "metadata": {},
     "output_type": "execute_result"
    },
    {
     "data": {
      "image/png": "[encoded data removed]",
      "text/plain": [
       "<Figure size 432x288 with 1 Axes>"
      ]
     },
     "metadata": {
      "needs_background": "light"
     },
     "output_type": "display_data"
    }
   ],
   "source": [
    "sns.scatterplot(x_train[0],x_train[1],hue=y_train)"
   ]
  },
  {
   "cell_type": "code",
   "execution_count": 22,
   "id": "3db9cafb",
   "metadata": {},
   "outputs": [],
   "source": [
    "from mlxtend.plotting import plot_decision_regions"
   ]
  },
  {
   "cell_type": "markdown",
   "id": "59c25f7e",
   "metadata": {},
   "source": [
    "#### Plotting the decision surface from using model"
   ]
  },
  {
   "cell_type": "code",
   "execution_count": 23,
   "id": "f1ef745f",
   "metadata": {},
   "outputs": [
    {
     "name": "stdout",
     "output_type": "stream",
     "text": [
      "3888/3888 [==============================] - 7s 2ms/step\n"
     ]
    },
    {
     "data": {
      "text/plain": [
       "<AxesSubplot:>"
      ]
     },
     "execution_count": 23,
     "metadata": {},
     "output_type": "execute_result"
    },
    {
     "data": {
      "image/png": "[encoded data removed]",
      "text/plain": [
       "<Figure size 432x288 with 1 Axes>"
      ]
     },
     "metadata": {
      "needs_background": "light"
     },
     "output_type": "display_data"
    }
   ],
   "source": [
    "plot_decision_regions(stdd[[0,1]].values,y_train.values.astype(int),clf=model)"
   ]
  },
  {
   "cell_type": "markdown",
   "id": "d8b082de",
   "metadata": {},
   "source": [
    "#### As I get the accuracy very low I build the new model with added hidden layers and added functions in each layer and repeat the whole process to get best model by observing accuracy"
   ]
  },
  {
   "cell_type": "code",
   "execution_count": 35,
   "id": "cd012710",
   "metadata": {},
   "outputs": [],
   "source": [
    "model1=Sequential()\n",
    "model1.add(Dense(8,activation=\"relu\",input_dim=2,kernel_initializer='he_uniform'))\n",
    "model1.add(Dropout(0.5))\n",
    "model1.add(BatchNormalization())\n",
    "model1.add(Dense(6,activation=\"relu\"))\n",
    "model1.add(Dropout(0.5))\n",
    "model1.add(BatchNormalization())\n",
    "model1.add(Dense(4,activation=\"relu\"))\n",
    "model1.add(Dropout(0.5))\n",
    "model1.add(BatchNormalization())\n",
    "model1.add(Dense(1,activation=\"sigmoid\"))"
   ]
  },
  {
   "cell_type": "code",
   "execution_count": 36,
   "id": "2033a1e9",
   "metadata": {},
   "outputs": [
    {
     "name": "stdout",
     "output_type": "stream",
     "text": [
      "Model: \"sequential_2\"\n",
      "_________________________________________________________________\n",
      " Layer (type)                Output Shape              Param #   \n",
      "=================================================================\n",
      " dense_7 (Dense)             (None, 8)                 24        \n",
      "                                                                 \n",
      " dropout_5 (Dropout)         (None, 8)                 0         \n",
      "                                                                 \n",
      " batch_normalization_5 (Batc  (None, 8)                32        \n",
      " hNormalization)                                                 \n",
      "                                                                 \n",
      " dense_8 (Dense)             (None, 6)                 54        \n",
      "                                                                 \n",
      " dropout_6 (Dropout)         (None, 6)                 0         \n",
      "                                                                 \n",
      " batch_normalization_6 (Batc  (None, 6)                24        \n",
      " hNormalization)                                                 \n",
      "                                                                 \n",
      " dense_9 (Dense)             (None, 4)                 28        \n",
      "                                                                 \n",
      " dropout_7 (Dropout)         (None, 4)                 0         \n",
      "                                                                 \n",
      " batch_normalization_7 (Batc  (None, 4)                16        \n",
      " hNormalization)                                                 \n",
      "                                                                 \n",
      " dense_10 (Dense)            (None, 1)                 5         \n",
      "                                                                 \n",
      "=================================================================\n",
      "Total params: 183\n",
      "Trainable params: 147\n",
      "Non-trainable params: 36\n",
      "_________________________________________________________________\n"
     ]
    }
   ],
   "source": [
    "model1.summary()"
   ]
  },
  {
   "cell_type": "markdown",
   "id": "4f369362",
   "metadata": {},
   "source": [
    "#### There are total of 89 parameters\n",
    "#### 69 out of 89 parameters are trained parameters"
   ]
  },
  {
   "cell_type": "markdown",
   "id": "80c5de9f",
   "metadata": {},
   "source": [
    "#### Compiling a model using Adam as optimizer and binary_crossentropy as loss function"
   ]
  },
  {
   "cell_type": "code",
   "execution_count": 37,
   "id": "53fa0868",
   "metadata": {},
   "outputs": [],
   "source": [
    "model1.compile(optimizer=\"Adam\",loss=\"binary_crossentropy\",metrics=[\"accuracy\"])"
   ]
  },
  {
   "cell_type": "markdown",
   "id": "b28b96a1",
   "metadata": {},
   "source": [
    "#### Trainnig the build model"
   ]
  },
  {
   "cell_type": "code",
   "execution_count": 38,
   "id": "c8cbc874",
   "metadata": {},
   "outputs": [
    {
     "name": "stdout",
     "output_type": "stream",
     "text": [
      "Epoch 1/20\n",
      "8/8 [==============================] - 4s 60ms/step - loss: 0.8812 - accuracy: 0.4583 - val_loss: 0.7379 - val_accuracy: 0.5000\n",
      "Epoch 2/20\n",
      "8/8 [==============================] - 0s 12ms/step - loss: 0.9222 - accuracy: 0.5417 - val_loss: 0.7307 - val_accuracy: 0.5556\n",
      "Epoch 3/20\n",
      "8/8 [==============================] - 0s 10ms/step - loss: 0.8083 - accuracy: 0.5556 - val_loss: 0.7135 - val_accuracy: 0.5556\n",
      "Epoch 4/20\n",
      "8/8 [==============================] - 0s 12ms/step - loss: 0.8099 - accuracy: 0.5139 - val_loss: 0.7080 - val_accuracy: 0.5000\n",
      "Epoch 5/20\n",
      "8/8 [==============================] - 0s 9ms/step - loss: 0.9043 - accuracy: 0.4306 - val_loss: 0.7038 - val_accuracy: 0.6111\n",
      "Epoch 6/20\n",
      "8/8 [==============================] - 0s 11ms/step - loss: 0.8175 - accuracy: 0.5833 - val_loss: 0.7020 - val_accuracy: 0.6111\n",
      "Epoch 7/20\n",
      "8/8 [==============================] - 0s 15ms/step - loss: 0.8559 - accuracy: 0.5278 - val_loss: 0.7024 - val_accuracy: 0.5000\n",
      "Epoch 8/20\n",
      "8/8 [==============================] - 0s 11ms/step - loss: 0.7872 - accuracy: 0.5139 - val_loss: 0.6989 - val_accuracy: 0.4444\n",
      "Epoch 9/20\n",
      "8/8 [==============================] - 0s 9ms/step - loss: 0.7227 - accuracy: 0.5000 - val_loss: 0.6958 - val_accuracy: 0.5556\n",
      "Epoch 10/20\n",
      "8/8 [==============================] - 0s 9ms/step - loss: 0.8380 - accuracy: 0.4722 - val_loss: 0.6949 - val_accuracy: 0.6111\n",
      "Epoch 11/20\n",
      "8/8 [==============================] - 0s 10ms/step - loss: 0.7098 - accuracy: 0.5556 - val_loss: 0.6896 - val_accuracy: 0.6111\n",
      "Epoch 12/20\n",
      "8/8 [==============================] - 0s 11ms/step - loss: 0.7296 - accuracy: 0.6528 - val_loss: 0.6919 - val_accuracy: 0.6667\n",
      "Epoch 13/20\n",
      "8/8 [==============================] - 0s 9ms/step - loss: 0.9177 - accuracy: 0.4722 - val_loss: 0.6859 - val_accuracy: 0.6667\n",
      "Epoch 14/20\n",
      "8/8 [==============================] - 0s 10ms/step - loss: 0.8497 - accuracy: 0.5139 - val_loss: 0.6788 - val_accuracy: 0.7222\n",
      "Epoch 15/20\n",
      "8/8 [==============================] - 0s 11ms/step - loss: 0.7025 - accuracy: 0.5833 - val_loss: 0.6725 - val_accuracy: 0.7222\n",
      "Epoch 16/20\n",
      "8/8 [==============================] - 0s 9ms/step - loss: 0.7491 - accuracy: 0.6250 - val_loss: 0.6696 - val_accuracy: 0.7222\n",
      "Epoch 17/20\n",
      "8/8 [==============================] - 0s 9ms/step - loss: 0.8137 - accuracy: 0.5000 - val_loss: 0.6695 - val_accuracy: 0.7222\n",
      "Epoch 18/20\n",
      "8/8 [==============================] - 0s 11ms/step - loss: 0.9481 - accuracy: 0.4444 - val_loss: 0.6702 - val_accuracy: 0.7778\n",
      "Epoch 19/20\n",
      "8/8 [==============================] - 0s 11ms/step - loss: 0.8301 - accuracy: 0.4444 - val_loss: 0.6701 - val_accuracy: 0.6667\n",
      "Epoch 20/20\n",
      "8/8 [==============================] - 0s 9ms/step - loss: 0.8093 - accuracy: 0.5000 - val_loss: 0.6647 - val_accuracy: 0.7222\n"
     ]
    }
   ],
   "source": [
    "save=model1.fit(stdd,y_train,batch_size=10,epochs=20,verbose=1,validation_split=0.2)"
   ]
  },
  {
   "cell_type": "code",
   "execution_count": 39,
   "id": "b06c33ea",
   "metadata": {},
   "outputs": [],
   "source": [
    "t1=save.history[\"loss\"]\n",
    "cv1=save.history[\"val_accuracy\"]"
   ]
  },
  {
   "cell_type": "markdown",
   "id": "7e0cc796",
   "metadata": {},
   "source": [
    "#### Plotting the train error and cross-validation error"
   ]
  },
  {
   "cell_type": "code",
   "execution_count": 40,
   "id": "cfe976c4",
   "metadata": {},
   "outputs": [
    {
     "data": {
      "text/plain": [
       "[<matplotlib.lines.Line2D at 0x2b13cc48490>]"
      ]
     },
     "execution_count": 40,
     "metadata": {},
     "output_type": "execute_result"
    },
    {
     "data": {
      "image/png": "[encoded data removed]",
      "text/plain": [
       "<Figure size 432x288 with 1 Axes>"
      ]
     },
     "metadata": {
      "needs_background": "light"
     },
     "output_type": "display_data"
    }
   ],
   "source": [
    "plt.plot(range(1,21),t1,label=\"training_loss\")\n",
    "plt.plot(range(1,21),cv1,label=\"cv_loss\")"
   ]
  },
  {
   "cell_type": "markdown",
   "id": "14aea33d",
   "metadata": {},
   "source": [
    "#### From the above plot we can observe that model is overfitting as train error and cross-validation error is high"
   ]
  },
  {
   "cell_type": "markdown",
   "id": "c05220ac",
   "metadata": {},
   "source": [
    "#### predicting probabiloty of y values for stdd values"
   ]
  },
  {
   "cell_type": "code",
   "execution_count": 41,
   "id": "64e6ee5f",
   "metadata": {},
   "outputs": [
    {
     "name": "stdout",
     "output_type": "stream",
     "text": [
      "3/3 [==============================] - 0s 7ms/step\n"
     ]
    }
   ],
   "source": [
    "predi=model1.predict(stdd)"
   ]
  },
  {
   "cell_type": "code",
   "execution_count": 42,
   "id": "e8ec453e",
   "metadata": {},
   "outputs": [],
   "source": [
    "predict=np.where(predi>0.5,1,0).flatten()"
   ]
  },
  {
   "cell_type": "markdown",
   "id": "984795ae",
   "metadata": {},
   "source": [
    "#### calculating the accuracy"
   ]
  },
  {
   "cell_type": "code",
   "execution_count": 43,
   "id": "ea4c0329",
   "metadata": {},
   "outputs": [
    {
     "data": {
      "text/plain": [
       "0.7555555555555555"
      ]
     },
     "execution_count": 43,
     "metadata": {},
     "output_type": "execute_result"
    }
   ],
   "source": [
    "accuracy_score(y_train,predict)"
   ]
  },
  {
   "cell_type": "code",
   "execution_count": 44,
   "id": "7a26c06f",
   "metadata": {},
   "outputs": [
    {
     "name": "stderr",
     "output_type": "stream",
     "text": [
      "C:\\Users\\PC\\anaconda3\\lib\\site-packages\\seaborn\\_decorators.py:36: FutureWarning: Pass the following variables as keyword args: x, y. From version 0.12, the only valid positional argument will be `data`, and passing other arguments without an explicit keyword will result in an error or misinterpretation.\n",
      "  warnings.warn(\n"
     ]
    },
    {
     "data": {
      "text/plain": [
       "<AxesSubplot:xlabel='0', ylabel='1'>"
      ]
     },
     "execution_count": 44,
     "metadata": {},
     "output_type": "execute_result"
    },
    {
     "data": {
      "image/png": "[encoded data removed]",
      "text/plain": [
       "<Figure size 432x288 with 1 Axes>"
      ]
     },
     "metadata": {
      "needs_background": "light"
     },
     "output_type": "display_data"
    }
   ],
   "source": [
    "sns.scatterplot(x_train[0],x_train[1],hue=y_train)"
   ]
  },
  {
   "cell_type": "markdown",
   "id": "970cdda4",
   "metadata": {},
   "source": [
    "#### Plotting the decision surface from using model"
   ]
  },
  {
   "cell_type": "code",
   "execution_count": 58,
   "id": "4b95e222",
   "metadata": {},
   "outputs": [
    {
     "name": "stdout",
     "output_type": "stream",
     "text": [
      "3888/3888 [==============================] - 8s 2ms/step\n"
     ]
    },
    {
     "data": {
      "text/plain": [
       "<AxesSubplot:>"
      ]
     },
     "execution_count": 58,
     "metadata": {},
     "output_type": "execute_result"
    },
    {
     "data": {
      "image/png": "[encoded data removed]",
      "text/plain": [
       "<Figure size 432x288 with 1 Axes>"
      ]
     },
     "metadata": {
      "needs_background": "light"
     },
     "output_type": "display_data"
    }
   ],
   "source": [
    "plot_decision_regions(stdd[[0,1]].values,y_train.values.astype(int),clf=model1)"
   ]
  },
  {
   "cell_type": "markdown",
   "id": "4c1a7eef",
   "metadata": {},
   "source": [
    "#### As I get the accuracy very low but better than previous model "
   ]
  },
  {
   "cell_type": "markdown",
   "id": "229ecf62",
   "metadata": {},
   "source": [
    "#### Applying the model on test data to obtain the generalised accuracy"
   ]
  },
  {
   "cell_type": "code",
   "execution_count": 169,
   "id": "4d6581d5",
   "metadata": {},
   "outputs": [
    {
     "name": "stdout",
     "output_type": "stream",
     "text": [
      "1/1 [==============================] - 0s 61ms/step\n"
     ]
    }
   ],
   "source": [
    "stddd=pd.DataFrame(std.transform(x_test))\n",
    "predi=model1.predict(stddd)"
   ]
  },
  {
   "cell_type": "markdown",
   "id": "c0ac4010",
   "metadata": {},
   "source": [
    "#### converting probability values obtained from model.predict to class labels"
   ]
  },
  {
   "cell_type": "code",
   "execution_count": 171,
   "id": "0af2916b",
   "metadata": {},
   "outputs": [],
   "source": [
    "predict=np.where(predi>0.5,1,0).flatten()"
   ]
  },
  {
   "cell_type": "code",
   "execution_count": 173,
   "id": "0a72144e",
   "metadata": {},
   "outputs": [
    {
     "data": {
      "text/plain": [
       "0.9"
      ]
     },
     "execution_count": 173,
     "metadata": {},
     "output_type": "execute_result"
    }
   ],
   "source": [
    "(accuracy_score(y_test,predict))"
   ]
  },
  {
   "cell_type": "markdown",
   "id": "4e878b7d",
   "metadata": {},
   "source": [
    "#### from the above cell we can observe that generalised accuracy is 90%"
   ]
  }
 ],
 "metadata": {
  "kernelspec": {
   "display_name": "Python 3 (ipykernel)",
   "language": "python",
   "name": "python3"
  },
  "language_info": {
   "codemirror_mode": {
    "name": "ipython",
    "version": 3
   },
   "file_extension": ".py",
   "mimetype": "text/x-python",
   "name": "python",
   "nbconvert_exporter": "python",
   "pygments_lexer": "ipython3",
   "version": "3.9.12"
  }
 },
 "nbformat": 4,
 "nbformat_minor": 5
}
